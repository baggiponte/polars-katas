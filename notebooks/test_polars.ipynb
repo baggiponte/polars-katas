{
 "cells": [
  {
   "cell_type": "code",
   "execution_count": 12,
   "metadata": {},
   "outputs": [
    {
     "name": "stdout",
     "output_type": "stream",
     "text": [
      "OrderedDict([('VendorID', Int32), ('tpep_pickup_datetime', Datetime(time_unit='ns', time_zone=None)), ('tpep_dropoff_datetime', Datetime(time_unit='ns', time_zone=None)), ('passenger_count', Int64), ('trip_distance', Float64), ('RatecodeID', Int64), ('store_and_fwd_flag', Utf8), ('PULocationID', Int32), ('DOLocationID', Int32), ('payment_type', Int64), ('fare_amount', Float64), ('extra', Float64), ('mta_tax', Float64), ('tip_amount', Float64), ('tolls_amount', Float64), ('improvement_surcharge', Float64), ('total_amount', Float64), ('congestion_surcharge', Float64), ('Airport_fee', Float64)])\n"
     ]
    }
   ],
   "source": [
    "# Read the data\n",
    "# Remember to download the data before\n",
    "import polars as pl\n",
    "import os\n",
    "import glob\n",
    "\n",
    "data_source = os.path.join(\"..\", \"data\", \"taxi\")\n",
    "\n",
    "# Get a list of all parquet files in the directory\n",
    "parquet_files = glob.glob(os.path.join(data_source, \"*.parquet\"))\n",
    "\n",
    "# Read each file into a dataframe and concatenate them\n",
    "data = pl.concat([pl.scan_parquet(file) for file in parquet_files])\n",
    "\n",
    "print(data.schema)\n",
    "\n",
    "# interesting link to understand this concepts\n",
    "# https://til.simonwillison.net/duckdb/remote-parquet"
   ]
  },
  {
   "cell_type": "code",
   "execution_count": 13,
   "metadata": {},
   "outputs": [
    {
     "data": {
      "text/html": [
       "<i>naive plan: (run <b>LazyFrame.explain(optimized=True)</b> to see the optimized plan)</i>\n",
       "    <p></p>\n",
       "    <div>SLICE[offset: 0, len: 5]<p></p>   SELECT [col(\"VendorID\"), col(\"total_amount\")] FROM<p></p>    UNION<p></p>      PLAN 0:<p></p><p></p>          Parquet SCAN ../data/taxi/yellow_tripdata_2023-04.parquet<p></p>          PROJECT */19 COLUMNS<p></p>      PLAN 1:<p></p><p></p>          Parquet SCAN ../data/taxi/yellow_tripdata_2023-05.parquet<p></p>          PROJECT */19 COLUMNS<p></p>      PLAN 2:<p></p><p></p>          Parquet SCAN ../data/taxi/yellow_tripdata_2023-02.parquet<p></p>          PROJECT */19 COLUMNS<p></p>      PLAN 3:<p></p><p></p>          Parquet SCAN ../data/taxi/yellow_tripdata_2023-03.parquet<p></p>          PROJECT */19 COLUMNS<p></p>      PLAN 4:<p></p><p></p>          Parquet SCAN ../data/taxi/yellow_tripdata_2023-09.parquet<p></p>          PROJECT */19 COLUMNS<p></p>      PLAN 5:<p></p><p></p>          Parquet SCAN ../data/taxi/yellow_tripdata_2023-08.parquet<p></p>          PROJECT */19 COLUMNS<p></p>      PLAN 6:<p></p><p></p>          Parquet SCAN ../data/taxi/yellow_tripdata_2023-06.parquet<p></p>          PROJECT */19 COLUMNS<p></p>      PLAN 7:<p></p><p></p>          Parquet SCAN ../data/taxi/yellow_tripdata_2023-07.parquet<p></p>          PROJECT */19 COLUMNS<p></p>    END UNION</div>"
      ],
      "text/plain": [
       "<LazyFrame [2 cols, {\"VendorID\": Int32, \"total_amount\": Float64}] at 0x7FA131FD5BA0>"
      ]
     },
     "execution_count": 13,
     "metadata": {},
     "output_type": "execute_result"
    }
   ],
   "source": [
    "# Select columns\n",
    "data.select([\"VendorID\", \"total_amount\"]).head()"
   ]
  },
  {
   "cell_type": "code",
   "execution_count": 14,
   "metadata": {},
   "outputs": [
    {
     "data": {
      "text/html": [
       "<div><style>\n",
       ".dataframe > thead > tr,\n",
       ".dataframe > tbody > tr {\n",
       "  text-align: right;\n",
       "  white-space: pre-wrap;\n",
       "}\n",
       "</style>\n",
       "<small>shape: (1, 4)</small><table border=\"1\" class=\"dataframe\"><thead><tr><th>VendorID</th><th>passenger_count</th><th>RatecodeID</th><th>payment_type</th></tr><tr><td>f64</td><td>f64</td><td>f64</td><td>f64</td></tr></thead><tbody><tr><td>1.72375</td><td>1.3815</td><td>1.31075</td><td>1.2355</td></tr></tbody></table></div>"
      ],
      "text/plain": [
       "shape: (1, 4)\n",
       "┌──────────┬─────────────────┬────────────┬──────────────┐\n",
       "│ VendorID ┆ passenger_count ┆ RatecodeID ┆ payment_type │\n",
       "│ ---      ┆ ---             ┆ ---        ┆ ---          │\n",
       "│ f64      ┆ f64             ┆ f64        ┆ f64          │\n",
       "╞══════════╪═════════════════╪════════════╪══════════════╡\n",
       "│ 1.72375  ┆ 1.3815          ┆ 1.31075    ┆ 1.2355       │\n",
       "└──────────┴─────────────────┴────────────┴──────────────┘"
      ]
     },
     "execution_count": 14,
     "metadata": {},
     "output_type": "execute_result"
    }
   ],
   "source": [
    "# Selectors to use expressions\n",
    "import polars.selectors as cs\n",
    "\n",
    "data.select(\n",
    "    cs.integer() - cs.first() | cs.temporal()\n",
    ")\n",
    "\n",
    "data.select(\n",
    "    (cs.integer() - cs.contains(\"LocationID\")).as_expr().mean()\n",
    ").fetch()\n",
    "# fetch it's interesting because can help on execute and see the result without computing everything.\n",
    "# collect will execute and optimize everything"
   ]
  },
  {
   "cell_type": "code",
   "execution_count": 23,
   "metadata": {},
   "outputs": [
    {
     "data": {
      "text/html": [
       "<div><style>\n",
       ".dataframe > thead > tr,\n",
       ".dataframe > tbody > tr {\n",
       "  text-align: right;\n",
       "  white-space: pre-wrap;\n",
       "}\n",
       "</style>\n",
       "<small>shape: (4_000, 5)</small><table border=\"1\" class=\"dataframe\"><thead><tr><th>trip_distance_meters</th><th>fare_amount_cents</th><th>tip_amount_cents</th><th>tolls_amount_cents</th><th>total_amount_cents</th></tr><tr><td>f64</td><td>f64</td><td>f64</td><td>f64</td><td>f64</td></tr></thead><tbody><tr><td>4900.0</td><td>28900.0</td><td>6000.0</td><td>0.0</td><td>39900.0</td></tr><tr><td>21890.0</td><td>70000.0</td><td>0.0</td><td>6550.0</td><td>81800.0</td></tr><tr><td>1300.0</td><td>11400.0</td><td>2000.0</td><td>0.0</td><td>18400.0</td></tr><tr><td>1500.0</td><td>10000.0</td><td>1000.0</td><td>0.0</td><td>16000.0</td></tr><tr><td>1490.0</td><td>11400.0</td><td>1000.0</td><td>0.0</td><td>17400.0</td></tr><tr><td>1200.0</td><td>9300.0</td><td>3550.0</td><td>0.0</td><td>17850.0</td></tr><tr><td>8610.0</td><td>33800.0</td><td>10320.0</td><td>6550.0</td><td>61920.0</td></tr><tr><td>3880.0</td><td>21900.0</td><td>6720.0</td><td>0.0</td><td>33620.0</td></tr><tr><td>8000.0</td><td>31000.0</td><td>0.0</td><td>6550.0</td><td>48800.0</td></tr><tr><td>1480.0</td><td>9300.0</td><td>2860.0</td><td>0.0</td><td>17160.0</td></tr><tr><td>990.0</td><td>7900.0</td><td>1000.0</td><td>0.0</td><td>13900.0</td></tr><tr><td>1300.0</td><td>8600.0</td><td>1000.0</td><td>0.0</td><td>14600.0</td></tr><tr><td>&hellip;</td><td>&hellip;</td><td>&hellip;</td><td>&hellip;</td><td>&hellip;</td></tr><tr><td>2590.0</td><td>16300.0</td><td>4260.0</td><td>0.0</td><td>25560.0</td></tr><tr><td>3270.0</td><td>22600.0</td><td>0.0</td><td>0.0</td><td>27600.0</td></tr><tr><td>2500.0</td><td>14200.0</td><td>3840.0</td><td>0.0</td><td>23040.0</td></tr><tr><td>1500.0</td><td>12100.0</td><td>3400.0</td><td>0.0</td><td>20500.0</td></tr><tr><td>2530.0</td><td>14900.0</td><td>3980.0</td><td>0.0</td><td>23880.0</td></tr><tr><td>2240.0</td><td>12800.0</td><td>2000.0</td><td>0.0</td><td>19800.0</td></tr><tr><td>1390.0</td><td>9300.0</td><td>2860.0</td><td>0.0</td><td>17160.0</td></tr><tr><td>1090.0</td><td>10700.0</td><td>3140.0</td><td>0.0</td><td>18840.0</td></tr><tr><td>16860.0</td><td>70000.0</td><td>0.0</td><td>6550.0</td><td>82300.0</td></tr><tr><td>1010.0</td><td>7900.0</td><td>2580.0</td><td>0.0</td><td>15480.0</td></tr><tr><td>1400.0</td><td>13500.0</td><td>3700.0</td><td>0.0</td><td>22200.0</td></tr><tr><td>1100.0</td><td>7900.0</td><td>0.0</td><td>0.0</td><td>12900.0</td></tr></tbody></table></div>"
      ],
      "text/plain": [
       "shape: (4_000, 5)\n",
       "┌───────────────────┬───────────────────┬──────────────────┬───────────────────┬───────────────────┐\n",
       "│ trip_distance_met ┆ fare_amount_cents ┆ tip_amount_cents ┆ tolls_amount_cent ┆ total_amount_cent │\n",
       "│ ers               ┆ ---               ┆ ---              ┆ s                 ┆ s                 │\n",
       "│ ---               ┆ f64               ┆ f64              ┆ ---               ┆ ---               │\n",
       "│ f64               ┆                   ┆                  ┆ f64               ┆ f64               │\n",
       "╞═══════════════════╪═══════════════════╪══════════════════╪═══════════════════╪═══════════════════╡\n",
       "│ 4900.0            ┆ 28900.0           ┆ 6000.0           ┆ 0.0               ┆ 39900.0           │\n",
       "│ 21890.0           ┆ 70000.0           ┆ 0.0              ┆ 6550.0            ┆ 81800.0           │\n",
       "│ 1300.0            ┆ 11400.0           ┆ 2000.0           ┆ 0.0               ┆ 18400.0           │\n",
       "│ 1500.0            ┆ 10000.0           ┆ 1000.0           ┆ 0.0               ┆ 16000.0           │\n",
       "│ …                 ┆ …                 ┆ …                ┆ …                 ┆ …                 │\n",
       "│ 16860.0           ┆ 70000.0           ┆ 0.0              ┆ 6550.0            ┆ 82300.0           │\n",
       "│ 1010.0            ┆ 7900.0            ┆ 2580.0           ┆ 0.0               ┆ 15480.0           │\n",
       "│ 1400.0            ┆ 13500.0           ┆ 3700.0           ┆ 0.0               ┆ 22200.0           │\n",
       "│ 1100.0            ┆ 7900.0            ┆ 0.0              ┆ 0.0               ┆ 12900.0           │\n",
       "└───────────────────┴───────────────────┴──────────────────┴───────────────────┴───────────────────┘"
      ]
     },
     "execution_count": 23,
     "metadata": {},
     "output_type": "execute_result"
    }
   ],
   "source": [
    "# A more advanced example with a custom expression and renames\n",
    "data.select(\n",
    "    (pl.col(\"trip_distance\") * 1000).alias(\"trip_distance_meters\"),\n",
    "    (cs.contains(\"amount\").as_expr() * 1000).name.suffix(\"_cents\"),\n",
    "    # cs .contains(\"amount\").as_expr().mul(1000).floordiv(10)\n",
    ").fetch()"
   ]
  },
  {
   "cell_type": "code",
   "execution_count": 33,
   "metadata": {},
   "outputs": [],
   "source": [
    "# Compress the memory casting and save again to parquet\n",
    "import polars.selectors as cs\n",
    "\n",
    "(\n",
    "    data\n",
    "    .with_columns(\n",
    "        cs.numeric().as_expr().shrink_dtype(),\n",
    "        pl.col(pl.Int8).cast(pl.UInt8),\n",
    "        cs.string().as_expr().cast(pl.Categorical),\n",
    "        cs.temporal().as_expr().cast(pl.Datetime(time_unit=\"ms\"))\n",
    "    )\n",
    "    .sink_parquet(\"../data/test.parquet\")\n",
    ")"
   ]
  },
  {
   "cell_type": "code",
   "execution_count": 35,
   "metadata": {},
   "outputs": [
    {
     "data": {
      "text/html": [
       "<div><style>\n",
       ".dataframe > thead > tr,\n",
       ".dataframe > tbody > tr {\n",
       "  text-align: right;\n",
       "  white-space: pre-wrap;\n",
       "}\n",
       "</style>\n",
       "<small>shape: (1, 1)</small><table border=\"1\" class=\"dataframe\"><thead><tr><th>payment_type</th></tr><tr><td>u32</td></tr></thead><tbody><tr><td>6</td></tr></tbody></table></div>"
      ],
      "text/plain": [
       "shape: (1, 1)\n",
       "┌──────────────┐\n",
       "│ payment_type │\n",
       "│ ---          │\n",
       "│ u32          │\n",
       "╞══════════════╡\n",
       "│ 6            │\n",
       "└──────────────┘"
      ]
     },
     "execution_count": 35,
     "metadata": {},
     "output_type": "execute_result"
    }
   ],
   "source": [
    "data.select(pl.col(\"payment_type\").n_unique()).collect()"
   ]
  },
  {
   "cell_type": "code",
   "execution_count": 40,
   "metadata": {},
   "outputs": [
    {
     "name": "stdout",
     "output_type": "stream",
     "text": [
      "CPU times: user 12.7 s, sys: 5.42 s, total: 18.1 s\n",
      "Wall time: 931 ms\n"
     ]
    },
    {
     "data": {
      "text/html": [
       "<div><style>\n",
       ".dataframe > thead > tr,\n",
       ".dataframe > tbody > tr {\n",
       "  text-align: right;\n",
       "  white-space: pre-wrap;\n",
       "}\n",
       "</style>\n",
       "<small>shape: (1, 19)</small><table border=\"1\" class=\"dataframe\"><thead><tr><th>VendorID</th><th>tpep_pickup_datetime</th><th>tpep_dropoff_datetime</th><th>passenger_count</th><th>trip_distance</th><th>RatecodeID</th><th>store_and_fwd_flag</th><th>PULocationID</th><th>DOLocationID</th><th>payment_type</th><th>fare_amount</th><th>extra</th><th>mta_tax</th><th>tip_amount</th><th>tolls_amount</th><th>improvement_surcharge</th><th>total_amount</th><th>congestion_surcharge</th><th>Airport_fee</th></tr><tr><td>u32</td><td>u32</td><td>u32</td><td>u32</td><td>u32</td><td>u32</td><td>u32</td><td>u32</td><td>u32</td><td>u32</td><td>u32</td><td>u32</td><td>u32</td><td>u32</td><td>u32</td><td>u32</td><td>u32</td><td>u32</td><td>u32</td></tr></thead><tbody><tr><td>3</td><td>12806518</td><td>12801318</td><td>11</td><td>7722</td><td>8</td><td>3</td><td>262</td><td>262</td><td>6</td><td>13843</td><td>186</td><td>16</td><td>7017</td><td>2532</td><td>5</td><td>31446</td><td>7</td><td>8</td></tr></tbody></table></div>"
      ],
      "text/plain": [
       "shape: (1, 19)\n",
       "┌──────────┬───────────┬───────────┬───────────┬───┬───────────┬───────────┬───────────┬───────────┐\n",
       "│ VendorID ┆ tpep_pick ┆ tpep_drop ┆ passenger ┆ … ┆ improveme ┆ total_amo ┆ congestio ┆ Airport_f │\n",
       "│ ---      ┆ up_dateti ┆ off_datet ┆ _count    ┆   ┆ nt_surcha ┆ unt       ┆ n_surchar ┆ ee        │\n",
       "│ u32      ┆ me        ┆ ime       ┆ ---       ┆   ┆ rge       ┆ ---       ┆ ge        ┆ ---       │\n",
       "│          ┆ ---       ┆ ---       ┆ u32       ┆   ┆ ---       ┆ u32       ┆ ---       ┆ u32       │\n",
       "│          ┆ u32       ┆ u32       ┆           ┆   ┆ u32       ┆           ┆ u32       ┆           │\n",
       "╞══════════╪═══════════╪═══════════╪═══════════╪═══╪═══════════╪═══════════╪═══════════╪═══════════╡\n",
       "│ 3        ┆ 12806518  ┆ 12801318  ┆ 11        ┆ … ┆ 5         ┆ 31446     ┆ 7         ┆ 8         │\n",
       "└──────────┴───────────┴───────────┴───────────┴───┴───────────┴───────────┴───────────┴───────────┘"
      ]
     },
     "execution_count": 40,
     "metadata": {},
     "output_type": "execute_result"
    }
   ],
   "source": [
    "# you have a lot of functions available, for example to see the unique\n",
    "%time data.select(pl.all().n_unique()).collect()\n"
   ]
  },
  {
   "cell_type": "code",
   "execution_count": 41,
   "metadata": {},
   "outputs": [
    {
     "name": "stdout",
     "output_type": "stream",
     "text": [
      "CPU times: user 8.43 s, sys: 3.15 s, total: 11.6 s\n",
      "Wall time: 718 ms\n"
     ]
    },
    {
     "data": {
      "text/html": [
       "<div><style>\n",
       ".dataframe > thead > tr,\n",
       ".dataframe > tbody > tr {\n",
       "  text-align: right;\n",
       "  white-space: pre-wrap;\n",
       "}\n",
       "</style>\n",
       "<small>shape: (1, 19)</small><table border=\"1\" class=\"dataframe\"><thead><tr><th>VendorID</th><th>tpep_pickup_datetime</th><th>tpep_dropoff_datetime</th><th>passenger_count</th><th>trip_distance</th><th>RatecodeID</th><th>store_and_fwd_flag</th><th>PULocationID</th><th>DOLocationID</th><th>payment_type</th><th>fare_amount</th><th>extra</th><th>mta_tax</th><th>tip_amount</th><th>tolls_amount</th><th>improvement_surcharge</th><th>total_amount</th><th>congestion_surcharge</th><th>Airport_fee</th></tr><tr><td>u32</td><td>u32</td><td>u32</td><td>u32</td><td>u32</td><td>u32</td><td>u32</td><td>u32</td><td>u32</td><td>u32</td><td>u32</td><td>u32</td><td>u32</td><td>u32</td><td>u32</td><td>u32</td><td>u32</td><td>u32</td><td>u32</td></tr></thead><tbody><tr><td>3</td><td>12822105</td><td>12754204</td><td>11</td><td>7740</td><td>8</td><td>3</td><td>261</td><td>261</td><td>6</td><td>13681</td><td>186</td><td>16</td><td>6983</td><td>2548</td><td>5</td><td>31369</td><td>7</td><td>8</td></tr></tbody></table></div>"
      ],
      "text/plain": [
       "shape: (1, 19)\n",
       "┌──────────┬───────────┬───────────┬───────────┬───┬───────────┬───────────┬───────────┬───────────┐\n",
       "│ VendorID ┆ tpep_pick ┆ tpep_drop ┆ passenger ┆ … ┆ improveme ┆ total_amo ┆ congestio ┆ Airport_f │\n",
       "│ ---      ┆ up_dateti ┆ off_datet ┆ _count    ┆   ┆ nt_surcha ┆ unt       ┆ n_surchar ┆ ee        │\n",
       "│ u32      ┆ me        ┆ ime       ┆ ---       ┆   ┆ rge       ┆ ---       ┆ ge        ┆ ---       │\n",
       "│          ┆ ---       ┆ ---       ┆ u32       ┆   ┆ ---       ┆ u32       ┆ ---       ┆ u32       │\n",
       "│          ┆ u32       ┆ u32       ┆           ┆   ┆ u32       ┆           ┆ u32       ┆           │\n",
       "╞══════════╪═══════════╪═══════════╪═══════════╪═══╪═══════════╪═══════════╪═══════════╪═══════════╡\n",
       "│ 3        ┆ 12822105  ┆ 12754204  ┆ 11        ┆ … ┆ 5         ┆ 31369     ┆ 7         ┆ 8         │\n",
       "└──────────┴───────────┴───────────┴───────────┴───┴───────────┴───────────┴───────────┴───────────┘"
      ]
     },
     "execution_count": 41,
     "metadata": {},
     "output_type": "execute_result"
    }
   ],
   "source": [
    "# you have approximate functions\n",
    "%time data.select(pl.all().approx_n_unique()).collect()"
   ]
  },
  {
   "cell_type": "code",
   "execution_count": 43,
   "metadata": {},
   "outputs": [
    {
     "data": {
      "text/html": [
       "<i>naive plan: (run <b>LazyFrame.explain(optimized=True)</b> to see the optimized plan)</i>\n",
       "    <p></p>\n",
       "    <div> WITH_COLUMNS:<p></p> [col(\"VendorID\").shrink_dtype(), col(\"passenger_count\").shrink_dtype(), col(\"trip_distance\").shrink_dtype(), col(\"RatecodeID\").shrink_dtype(), col(\"PULocationID\").shrink_dtype(), col(\"DOLocationID\").shrink_dtype(), col(\"payment_type\").shrink_dtype(), col(\"fare_amount\").shrink_dtype(), col(\"extra\").shrink_dtype(), col(\"mta_tax\").shrink_dtype(), col(\"tip_amount\").shrink_dtype(), col(\"tolls_amount\").shrink_dtype(), col(\"improvement_surcharge\").shrink_dtype(), col(\"total_amount\").shrink_dtype(), col(\"congestion_surcharge\").shrink_dtype(), col(\"Airport_fee\").shrink_dtype(), col(\"store_and_fwd_flag\").strict_cast(Categorical(None)), col(\"tpep_pickup_datetime\").strict_cast(Datetime(Milliseconds, None)), col(\"tpep_dropoff_datetime\").strict_cast(Datetime(Milliseconds, None))]<p></p>  UNION<p></p>    PLAN 0:<p></p><p></p>        Parquet SCAN ../data/taxi/yellow_tripdata_2023-04.parquet<p></p>        PROJECT */19 COLUMNS<p></p>    PLAN 1:<p></p><p></p>        Parquet SCAN ../data/taxi/yellow_tripdata_2023-05.parquet<p></p>        PROJECT */19 COLUMNS<p></p>    PLAN 2:<p></p><p></p>        Parquet SCAN ../data/taxi/yellow_tripdata_2023-02.parquet<p></p>        PROJECT */19 COLUMNS<p></p>    PLAN 3:<p></p><p></p>        Parquet SCAN ../data/taxi/yellow_tripdata_2023-03.parquet<p></p>        PROJECT */19 COLUMNS<p></p>    PLAN 4:<p></p><p></p>        Parquet SCAN ../data/taxi/yellow_tripdata_2023-09.parquet<p></p>        PROJECT */19 COLUMNS<p></p>    PLAN 5:<p></p><p></p>        Parquet SCAN ../data/taxi/yellow_tripdata_2023-08.parquet<p></p>        PROJECT */19 COLUMNS<p></p>    PLAN 6:<p></p><p></p>        Parquet SCAN ../data/taxi/yellow_tripdata_2023-06.parquet<p></p>        PROJECT */19 COLUMNS<p></p>    PLAN 7:<p></p><p></p>        Parquet SCAN ../data/taxi/yellow_tripdata_2023-07.parquet<p></p>        PROJECT */19 COLUMNS<p></p>  END UNION</div>"
      ],
      "text/plain": [
       "<LazyFrame [19 cols, {\"VendorID\": UInt8 … \"Airport_fee\": Float32}] at 0x7FA130773A30>"
      ]
     },
     "execution_count": 43,
     "metadata": {},
     "output_type": "execute_result"
    }
   ],
   "source": [
    "# namespaces\n",
    "shrunk = (\n",
    "    data\n",
    "    .with_columns(\n",
    "        cs.numeric().as_expr().shrink_dtype(),\n",
    "        pl.col(pl.Int8).cast(pl.UInt8),\n",
    "        cs.string().as_expr().cast(pl.Categorical),\n",
    "        cs.temporal().as_expr().cast(pl.Datetime(time_unit=\"ms\"))\n",
    "    )\n",
    ")\n",
    "\n",
    "# you can isolate pieces of plans, concatenate expression and move only transformations.\n",
    "# this is a logic plan and you can move it around\n",
    "# this is completely lazy and transparent\n",
    "shrunk"
   ]
  },
  {
   "cell_type": "code",
   "execution_count": 51,
   "metadata": {},
   "outputs": [
    {
     "data": {
      "text/plain": [
       "' WITH_COLUMNS:\\n [col(\"tpep_pickup_datetime\").dt.day().alias(\"tpep_pickup_datetime_days\"), col(\"tpep_dropoff_datetime\").dt.day().alias(\"tpep_dropoff_datetime_days\")]\\n   WITH_COLUMNS:\\n   [col(\"VendorID\").shrink_dtype(), col(\"passenger_count\").shrink_dtype(), col(\"trip_distance\").shrink_dtype(), col(\"RatecodeID\").shrink_dtype(), col(\"PULocationID\").shrink_dtype(), col(\"DOLocationID\").shrink_dtype(), col(\"payment_type\").shrink_dtype(), col(\"fare_amount\").shrink_dtype(), col(\"extra\").shrink_dtype(), col(\"mta_tax\").shrink_dtype(), col(\"tip_amount\").shrink_dtype(), col(\"tolls_amount\").shrink_dtype(), col(\"improvement_surcharge\").shrink_dtype(), col(\"total_amount\").shrink_dtype(), col(\"congestion_surcharge\").shrink_dtype(), col(\"Airport_fee\").shrink_dtype(), col(\"store_and_fwd_flag\").strict_cast(Categorical(None)), col(\"tpep_pickup_datetime\").strict_cast(Datetime(Milliseconds, None)), col(\"tpep_dropoff_datetime\").strict_cast(Datetime(Milliseconds, None))]\\n    UNION\\n      PLAN 0:\\n\\n          Parquet SCAN ../data/taxi/yellow_tripdata_2023-04.parquet\\n          PROJECT */19 COLUMNS\\n      PLAN 1:\\n\\n          Parquet SCAN ../data/taxi/yellow_tripdata_2023-05.parquet\\n          PROJECT */19 COLUMNS\\n      PLAN 2:\\n\\n          Parquet SCAN ../data/taxi/yellow_tripdata_2023-02.parquet\\n          PROJECT */19 COLUMNS\\n      PLAN 3:\\n\\n          Parquet SCAN ../data/taxi/yellow_tripdata_2023-03.parquet\\n          PROJECT */19 COLUMNS\\n      PLAN 4:\\n\\n          Parquet SCAN ../data/taxi/yellow_tripdata_2023-09.parquet\\n          PROJECT */19 COLUMNS\\n      PLAN 5:\\n\\n          Parquet SCAN ../data/taxi/yellow_tripdata_2023-08.parquet\\n          PROJECT */19 COLUMNS\\n      PLAN 6:\\n\\n          Parquet SCAN ../data/taxi/yellow_tripdata_2023-06.parquet\\n          PROJECT */19 COLUMNS\\n      PLAN 7:\\n\\n          Parquet SCAN ../data/taxi/yellow_tripdata_2023-07.parquet\\n          PROJECT */19 COLUMNS\\n    END UNION'"
      ]
     },
     "execution_count": 51,
     "metadata": {},
     "output_type": "execute_result"
    }
   ],
   "source": [
    "# I'm adding a new operation inside the shrunk plan created before\n",
    "(\n",
    "    shrunk\n",
    "    .with_columns(\n",
    "        cs.temporal().as_expr().dt.day().name.suffix(\"_days\")\n",
    "    ).explain(optimized=True)\n",
    ")\n",
    "# ignore all the previous operations and just execute the last one\n",
    "# it can do subquery pruning and optimization keeping only what is necessary"
   ]
  },
  {
   "cell_type": "code",
   "execution_count": 57,
   "metadata": {},
   "outputs": [
    {
     "data": {
      "text/html": [
       "<div><style>\n",
       ".dataframe > thead > tr,\n",
       ".dataframe > tbody > tr {\n",
       "  text-align: right;\n",
       "  white-space: pre-wrap;\n",
       "}\n",
       "</style>\n",
       "<small>shape: (2, 2)</small><table border=\"1\" class=\"dataframe\"><thead><tr><th>VendorID</th><th>total_amount</th></tr><tr><td>i8</td><td>list[f32]</td></tr></thead><tbody><tr><td>1</td><td>[39.900002, 18.4, … 12.9]</td></tr><tr><td>2</td><td>[81.800003, 17.4, … 15.48]</td></tr></tbody></table></div>"
      ],
      "text/plain": [
       "shape: (2, 2)\n",
       "┌──────────┬────────────────────────────┐\n",
       "│ VendorID ┆ total_amount               │\n",
       "│ ---      ┆ ---                        │\n",
       "│ i8       ┆ list[f32]                  │\n",
       "╞══════════╪════════════════════════════╡\n",
       "│ 1        ┆ [39.900002, 18.4, … 12.9]  │\n",
       "│ 2        ┆ [81.800003, 17.4, … 15.48] │\n",
       "└──────────┴────────────────────────────┘"
      ]
     },
     "execution_count": 57,
     "metadata": {},
     "output_type": "execute_result"
    }
   ],
   "source": [
    "# another example more complex\n",
    "# I'm adding a new operation inside the shrunk plan created before\n",
    "(\n",
    "    shrunk\n",
    "    .filter(\n",
    "        pl.col(\"tpep_pickup_datetime\").dt.day().eq(1)\n",
    "    )\n",
    "    .select(\n",
    "        pl.col(\"tpep_pickup_datetime\").cast(pl.Utf8).str.split(\" \").map_elements(lambda s: s.str.to_uppercase()),\n",
    "    )\n",
    "    .fetch()\n",
    ")"
   ]
  },
  {
   "cell_type": "code",
   "execution_count": null,
   "metadata": {},
   "outputs": [],
   "source": [
    "# another example more complex\n",
    "(\n",
    "    shrunk\n",
    "    .filter(\n",
    "        pl.col(\"tpep_pickup_datetime\").dt.day().eq(1)\n",
    "    )\n",
    "    .group_by(\"VendorID\").agg(\"total_amount\")\n",
    "    .fetch()\n",
    ")"
   ]
  },
  {
   "cell_type": "code",
   "execution_count": 59,
   "metadata": {},
   "outputs": [
    {
     "data": {
      "text/html": [
       "<div><style>\n",
       ".dataframe > thead > tr,\n",
       ".dataframe > tbody > tr {\n",
       "  text-align: right;\n",
       "  white-space: pre-wrap;\n",
       "}\n",
       "</style>\n",
       "<small>shape: (8, 3)</small><table border=\"1\" class=\"dataframe\"><thead><tr><th>VendorID</th><th>payment_type</th><th>total_amount</th></tr><tr><td>i8</td><td>i8</td><td>list[f32]</td></tr></thead><tbody><tr><td>1</td><td>3</td><td>[null, null, … 8.783334]</td></tr><tr><td>2</td><td>2</td><td>[null, null, … 41.16666]</td></tr><tr><td>1</td><td>4</td><td>[null, null, … 14.399999]</td></tr><tr><td>1</td><td>2</td><td>[null, null, … 15.799995]</td></tr><tr><td>2</td><td>1</td><td>[null, null, … 17.160069]</td></tr><tr><td>2</td><td>3</td><td>[null, null, … 3.6]</td></tr><tr><td>1</td><td>1</td><td>[null, null, … 21.913385]</td></tr><tr><td>2</td><td>4</td><td>[null, null, … 5.233333]</td></tr></tbody></table></div>"
      ],
      "text/plain": [
       "shape: (8, 3)\n",
       "┌──────────┬──────────────┬───────────────────────────┐\n",
       "│ VendorID ┆ payment_type ┆ total_amount              │\n",
       "│ ---      ┆ ---          ┆ ---                       │\n",
       "│ i8       ┆ i8           ┆ list[f32]                 │\n",
       "╞══════════╪══════════════╪═══════════════════════════╡\n",
       "│ 1        ┆ 3            ┆ [null, null, … 8.783334]  │\n",
       "│ 2        ┆ 2            ┆ [null, null, … 41.16666]  │\n",
       "│ 1        ┆ 4            ┆ [null, null, … 14.399999] │\n",
       "│ 1        ┆ 2            ┆ [null, null, … 15.799995] │\n",
       "│ 2        ┆ 1            ┆ [null, null, … 17.160069] │\n",
       "│ 2        ┆ 3            ┆ [null, null, … 3.6]       │\n",
       "│ 1        ┆ 1            ┆ [null, null, … 21.913385] │\n",
       "│ 2        ┆ 4            ┆ [null, null, … 5.233333]  │\n",
       "└──────────┴──────────────┴───────────────────────────┘"
      ]
     },
     "execution_count": 59,
     "metadata": {},
     "output_type": "execute_result"
    }
   ],
   "source": [
    "# another example more complex\n",
    "(\n",
    "    shrunk\n",
    "    .filter(\n",
    "        pl.col(\"tpep_pickup_datetime\").dt.day().eq(1)\n",
    "    )\n",
    "    .group_by(\"VendorID\", \"payment_type\")\n",
    "    .agg(\"total_amount\")\n",
    "    .with_columns(\n",
    "        pl.col(\"total_amount\").list.eval(pl.element().rolling_mean(window_size=3))\n",
    "    )\n",
    "    .fetch()\n",
    ")"
   ]
  },
  {
   "cell_type": "code",
   "execution_count": null,
   "metadata": {},
   "outputs": [],
   "source": []
  }
 ],
 "metadata": {
  "kernelspec": {
   "display_name": ".venv",
   "language": "python",
   "name": "python3"
  },
  "language_info": {
   "codemirror_mode": {
    "name": "ipython",
    "version": 3
   },
   "file_extension": ".py",
   "mimetype": "text/x-python",
   "name": "python",
   "nbconvert_exporter": "python",
   "pygments_lexer": "ipython3",
   "version": "3.10.13"
  }
 },
 "nbformat": 4,
 "nbformat_minor": 2
}
